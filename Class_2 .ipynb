{
 "cells": [
  {
   "cell_type": "code",
   "execution_count": 2,
   "metadata": {},
   "outputs": [
    {
     "data": {
      "text/plain": [
       "['Hello', 34, 33, 'asfs', False, [], [1, 2, 3]]"
      ]
     },
     "execution_count": 2,
     "metadata": {},
     "output_type": "execute_result"
    }
   ],
   "source": [
    "#list\n",
    "a=[1,34,33,'asfs', False, [],[1,2,3]]\n",
    "a[0]='Hello'\n",
    "a"
   ]
  },
  {
   "cell_type": "code",
   "execution_count": 8,
   "metadata": {},
   "outputs": [],
   "source": [
    "a.append('End of list')"
   ]
  },
  {
   "cell_type": "code",
   "execution_count": 9,
   "metadata": {},
   "outputs": [],
   "source": [
    "del a[2]"
   ]
  },
  {
   "cell_type": "code",
   "execution_count": 10,
   "metadata": {},
   "outputs": [
    {
     "data": {
      "text/plain": [
       "['Hello',\n",
       " 34,\n",
       " 'asfs',\n",
       " False,\n",
       " [],\n",
       " [1, 2, 3],\n",
       " 'End of list',\n",
       " 'End of list',\n",
       " 'End of list',\n",
       " 'End of list',\n",
       " 'End of list',\n",
       " 'End of list']"
      ]
     },
     "execution_count": 10,
     "metadata": {},
     "output_type": "execute_result"
    }
   ],
   "source": [
    "a"
   ]
  },
  {
   "cell_type": "code",
   "execution_count": 11,
   "metadata": {},
   "outputs": [
    {
     "data": {
      "text/plain": [
       "[34,\n",
       " 'asfs',\n",
       " 'End of list',\n",
       " 'End of list',\n",
       " 'End of list',\n",
       " 'End of list',\n",
       " 'End of list',\n",
       " 'End of list']"
      ]
     },
     "execution_count": 11,
     "metadata": {},
     "output_type": "execute_result"
    }
   ],
   "source": [
    "a[1:3] + a[6:]"
   ]
  },
  {
   "cell_type": "code",
   "execution_count": 12,
   "metadata": {},
   "outputs": [
    {
     "data": {
      "text/plain": [
       "['End of list', 'End of list']"
      ]
     },
     "execution_count": 12,
     "metadata": {},
     "output_type": "execute_result"
    }
   ],
   "source": [
    "a[-2:]"
   ]
  },
  {
   "cell_type": "code",
   "execution_count": 13,
   "metadata": {},
   "outputs": [],
   "source": [
    "a.insert(2,'Middle')"
   ]
  },
  {
   "cell_type": "code",
   "execution_count": 14,
   "metadata": {},
   "outputs": [
    {
     "data": {
      "text/plain": [
       "['Hello',\n",
       " 34,\n",
       " 'Middle',\n",
       " 'asfs',\n",
       " False,\n",
       " [],\n",
       " [1, 2, 3],\n",
       " 'End of list',\n",
       " 'End of list',\n",
       " 'End of list',\n",
       " 'End of list',\n",
       " 'End of list',\n",
       " 'End of list']"
      ]
     },
     "execution_count": 14,
     "metadata": {},
     "output_type": "execute_result"
    }
   ],
   "source": [
    "a"
   ]
  },
  {
   "cell_type": "code",
   "execution_count": 32,
   "metadata": {},
   "outputs": [
    {
     "name": "stdout",
     "output_type": "stream",
     "text": [
      "10000\n",
      "60000\n",
      "80000\n",
      "81000\n",
      "86000\n",
      "max profit= 50000\n",
      "max_month= 2\n"
     ]
    }
   ],
   "source": [
    "#Расчитать сумму всех чисел в листе\n",
    "a=[10000,50000,20000,1000,5000]\n",
    "total_profit=0\n",
    "for i in a:\n",
    "    #total_profit=total_profit+i\n",
    "    total_profit += i \n",
    "    print(total_profit)\n",
    "    \n",
    "max_profit=a[0]\n",
    "month_number=1 #номер месяца 1, чтобы январь не был нулевым месяцем \n",
    "max_month=1 #для примера берем январь, чтобы цикл крутился до того месяца пока цикл максимальной выручки не остановится\n",
    "for i in a[1:]:\n",
    "    month_number += 1\n",
    "    if i>max_profit:\n",
    "        max_profit=i\n",
    "        max_month=month_number\n",
    "print(f'max profit=',max_profit)\n",
    "print(f'max_month=',max_month)"
   ]
  },
  {
   "cell_type": "code",
   "execution_count": 33,
   "metadata": {},
   "outputs": [
    {
     "name": "stdout",
     "output_type": "stream",
     "text": [
      "2 50000\n"
     ]
    }
   ],
   "source": [
    "a=[10000,50000,20000,1000,5000]\n",
    "    \n",
    "max_profit=a[0]\n",
    "\n",
    "max_month=1 \n",
    "for month_number in range(5):\n",
    "    if a[month_number]>max_profit:\n",
    "        max_profit=a[month_number]\n",
    "        max_month=month_number\n",
    "print(max_month+1,max_profit)"
   ]
  },
  {
   "cell_type": "code",
   "execution_count": 36,
   "metadata": {},
   "outputs": [
    {
     "name": "stdout",
     "output_type": "stream",
     "text": [
      "2 50000\n"
     ]
    }
   ],
   "source": [
    "a=[10000,50000,20000,1000,5000]\n",
    "    \n",
    "max_profit=a[0]\n",
    "max_month=1 \n",
    "for month_number, profit in enumerate(a[1:],start=2):\n",
    "    if profit>max_profit:\n",
    "        max_profit=profit\n",
    "        max_month=month_number\n",
    "print(max_month,max_profit)"
   ]
  },
  {
   "cell_type": "code",
   "execution_count": 34,
   "metadata": {},
   "outputs": [
    {
     "name": "stdout",
     "output_type": "stream",
     "text": [
      "0 1\n",
      "1 2\n",
      "2 4\n"
     ]
    }
   ],
   "source": [
    "b=[1,2,3]\n",
    "for i, j in enumerate(b):\n",
    "    print(i,j)\n"
   ]
  },
  {
   "cell_type": "code",
   "execution_count": 37,
   "metadata": {},
   "outputs": [],
   "source": [
    "#Словарь\n",
    "a={\n",
    "    \"name\" : \"John\",\n",
    "    \"salary\": 500000,\n",
    "    \"achievements\": [\n",
    "        {\n",
    "            \"year\": 2005,\n",
    "            \"type\": \"За Службу Родине\"\n",
    "        },\n",
    "        {\n",
    "            \"year\": 2006,\n",
    "            \"type\": \"Лучший Баскетболист\"\n",
    "        }\n",
    "    ]\n",
    "}\n"
   ]
  },
  {
   "cell_type": "code",
   "execution_count": 39,
   "metadata": {},
   "outputs": [
    {
     "ename": "NameError",
     "evalue": "name 'd' is not defined",
     "output_type": "error",
     "traceback": [
      "\u001b[0;31m---------------------------------------------------------------------------\u001b[0m",
      "\u001b[0;31mNameError\u001b[0m                                 Traceback (most recent call last)",
      "\u001b[0;32m<ipython-input-39-bc6dd83f5740>\u001b[0m in \u001b[0;36m<module>\u001b[0;34m\u001b[0m\n\u001b[0;32m----> 1\u001b[0;31m \u001b[0md\u001b[0m\u001b[0;34m[\u001b[0m\u001b[0;34m\"name\"\u001b[0m\u001b[0;34m]\u001b[0m\u001b[0;34m=\u001b[0m \u001b[0;34m\"John Doe\"\u001b[0m\u001b[0;34m\u001b[0m\u001b[0;34m\u001b[0m\u001b[0m\n\u001b[0m",
      "\u001b[0;31mNameError\u001b[0m: name 'd' is not defined"
     ]
    }
   ],
   "source": [
    "d[\"name\"]= \"John Doe\""
   ]
  },
  {
   "cell_type": "code",
   "execution_count": 40,
   "metadata": {},
   "outputs": [
    {
     "ename": "NameError",
     "evalue": "name 'd' is not defined",
     "output_type": "error",
     "traceback": [
      "\u001b[0;31m---------------------------------------------------------------------------\u001b[0m",
      "\u001b[0;31mNameError\u001b[0m                                 Traceback (most recent call last)",
      "\u001b[0;32m<ipython-input-40-a5bd49395321>\u001b[0m in \u001b[0;36m<module>\u001b[0;34m\u001b[0m\n\u001b[0;32m----> 1\u001b[0;31m \u001b[0md\u001b[0m\u001b[0;34m[\u001b[0m\u001b[0;34m\"tax\"\u001b[0m\u001b[0;34m]\u001b[0m\u001b[0;34m=\u001b[0m \u001b[0;36m5\u001b[0m\u001b[0;34m\u001b[0m\u001b[0;34m\u001b[0m\u001b[0m\n\u001b[0m",
      "\u001b[0;31mNameError\u001b[0m: name 'd' is not defined"
     ]
    }
   ],
   "source": [
    "d[\"tax\"]= 5 "
   ]
  },
  {
   "cell_type": "code",
   "execution_count": 59,
   "metadata": {},
   "outputs": [],
   "source": [
    "employees = [\n",
    "    {\n",
    "    \"name\" : \"Arman\",\n",
    "    \"salary\": 500000,\n",
    "    \"city\": \"Almaty\"\n",
    "    },\n",
    "    {\n",
    "    \"name\" : \"Anuar\",\n",
    "    \"salary\": 550000,\n",
    "    \"city\":\"Astana\"\n",
    "    },\n",
    "    {\n",
    "    \"name\" : \"Anuar 2\",\n",
    "    \"salary\": 200000,\n",
    "    \"city\":\"Astana\"\n",
    "    },\n",
    "    {\n",
    "    \"name\" : \"Aslan\",\n",
    "    \"salary\": 500000,\n",
    "    \"city\": \"Shymkent\"\n",
    "    },\n",
    "    {\n",
    "    \"name\" : \"Aslan\",\n",
    "    \"salary\": 200000,\n",
    "    \"city\": \"Shymkent\"\n",
    "    }\n",
    "]"
   ]
  },
  {
   "cell_type": "code",
   "execution_count": 60,
   "metadata": {},
   "outputs": [],
   "source": [
    "max_profit = employees[0]"
   ]
  },
  {
   "cell_type": "code",
   "execution_count": 61,
   "metadata": {},
   "outputs": [
    {
     "data": {
      "text/plain": [
       "{'name': 'Arman', 'salary': 500000, 'city': 'Almaty'}"
      ]
     },
     "execution_count": 61,
     "metadata": {},
     "output_type": "execute_result"
    }
   ],
   "source": [
    "employees[0]"
   ]
  },
  {
   "cell_type": "code",
   "execution_count": 62,
   "metadata": {},
   "outputs": [
    {
     "data": {
      "text/plain": [
       "500000"
      ]
     },
     "execution_count": 62,
     "metadata": {},
     "output_type": "execute_result"
    }
   ],
   "source": [
    "employees[0][\"salary\"]"
   ]
  },
  {
   "cell_type": "code",
   "execution_count": 63,
   "metadata": {},
   "outputs": [
    {
     "name": "stdout",
     "output_type": "stream",
     "text": [
      "550000 Astana\n"
     ]
    }
   ],
   "source": [
    "max_profit=employees[0][\"salary\"]\n",
    "max_city=employees[0][\"city\"]\n",
    "for empl in employees[1:]:\n",
    "    if empl[\"salary\"]>max_profit:\n",
    "        max_profit=empl[\"salary\"]\n",
    "        max_city=empl[\"city\"]\n",
    "print(max_profit,max_city)"
   ]
  },
  {
   "cell_type": "code",
   "execution_count": 64,
   "metadata": {},
   "outputs": [],
   "source": [
    "average_salaries={\n",
    "    \"Almaty\":[],\n",
    "    \"Astana\":[],\n",
    "    \"Shymkent\":[]\n",
    "}"
   ]
  },
  {
   "cell_type": "code",
   "execution_count": 65,
   "metadata": {},
   "outputs": [],
   "source": [
    "for empl in employees:\n",
    "    average_salaries[empl[\"city\"]].append(empl[\"salary\"])"
   ]
  },
  {
   "cell_type": "code",
   "execution_count": 66,
   "metadata": {},
   "outputs": [
    {
     "data": {
      "text/plain": [
       "{'Almaty': [500000], 'Astana': [550000, 200000], 'Shymkent': [500000, 200000]}"
      ]
     },
     "execution_count": 66,
     "metadata": {},
     "output_type": "execute_result"
    }
   ],
   "source": [
    "average_salaries"
   ]
  },
  {
   "cell_type": "code",
   "execution_count": 67,
   "metadata": {},
   "outputs": [
    {
     "name": "stdout",
     "output_type": "stream",
     "text": [
      "[500000]\n",
      "[550000, 200000]\n",
      "[500000, 200000]\n"
     ]
    }
   ],
   "source": [
    "for city in [\"Almaty\",\"Astana\", \"Shymkent\"]:\n",
    "    l = average_salaries[city]\n",
    "    print(l)"
   ]
  },
  {
   "cell_type": "code",
   "execution_count": 68,
   "metadata": {},
   "outputs": [
    {
     "data": {
      "text/plain": [
       "28"
      ]
     },
     "execution_count": 68,
     "metadata": {},
     "output_type": "execute_result"
    }
   ],
   "source": [
    "sum([1,2,3,4,5,6,7])"
   ]
  },
  {
   "cell_type": "code",
   "execution_count": 69,
   "metadata": {},
   "outputs": [
    {
     "name": "stdout",
     "output_type": "stream",
     "text": [
      "Average salary in Almaty 500000.0 тенге\n",
      "Average salary in Astana 375000.0 тенге\n",
      "Average salary in Shymkent 350000.0 тенге\n"
     ]
    }
   ],
   "source": [
    "for city in [\"Almaty\",\"Astana\", \"Shymkent\"]:\n",
    "    s = average_salaries[city]\n",
    "    print(\"Average salary in\", city, sum(s)/len(s),\"тенге\")"
   ]
  },
  {
   "cell_type": "code",
   "execution_count": null,
   "metadata": {},
   "outputs": [],
   "source": []
  }
 ],
 "metadata": {
  "kernelspec": {
   "display_name": "Python 3",
   "language": "python",
   "name": "python3"
  },
  "language_info": {
   "codemirror_mode": {
    "name": "ipython",
    "version": 3
   },
   "file_extension": ".py",
   "mimetype": "text/x-python",
   "name": "python",
   "nbconvert_exporter": "python",
   "pygments_lexer": "ipython3",
   "version": "3.7.4"
  }
 },
 "nbformat": 4,
 "nbformat_minor": 2
}
