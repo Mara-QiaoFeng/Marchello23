{
 "cells": [
  {
   "cell_type": "code",
   "execution_count": 12,
   "metadata": {},
   "outputs": [],
   "source": [
    "a1 = 5 "
   ]
  },
  {
   "cell_type": "code",
   "execution_count": 19,
   "metadata": {},
   "outputs": [
    {
     "name": "stdout",
     "output_type": "stream",
     "text": [
      "4\n"
     ]
    }
   ],
   "source": [
    "print(a1)"
   ]
  },
  {
   "cell_type": "code",
   "execution_count": 14,
   "metadata": {},
   "outputs": [],
   "source": [
    "a2 = 3 "
   ]
  },
  {
   "cell_type": "code",
   "execution_count": 17,
   "metadata": {},
   "outputs": [],
   "source": [
    "a1 = a2 + 1 "
   ]
  },
  {
   "cell_type": "code",
   "execution_count": 20,
   "metadata": {},
   "outputs": [
    {
     "name": "stdout",
     "output_type": "stream",
     "text": [
      "4\n"
     ]
    }
   ],
   "source": [
    "print(a1)"
   ]
  },
  {
   "cell_type": "code",
   "execution_count": 25,
   "metadata": {},
   "outputs": [],
   "source": [
    "s = ' Hello World '"
   ]
  },
  {
   "cell_type": "code",
   "execution_count": 27,
   "metadata": {},
   "outputs": [
    {
     "data": {
      "text/plain": [
       "' Hello World '"
      ]
     },
     "execution_count": 27,
     "metadata": {},
     "output_type": "execute_result"
    }
   ],
   "source": [
    "s"
   ]
  },
  {
   "cell_type": "code",
   "execution_count": 36,
   "metadata": {},
   "outputs": [
    {
     "data": {
      "text/plain": [
       "True"
      ]
     },
     "execution_count": 36,
     "metadata": {},
     "output_type": "execute_result"
    }
   ],
   "source": [
    "0 > 1 or 1 > 0"
   ]
  },
  {
   "cell_type": "code",
   "execution_count": 39,
   "metadata": {},
   "outputs": [
    {
     "name": "stdout",
     "output_type": "stream",
     "text": [
      "Okay\n"
     ]
    }
   ],
   "source": [
    "a = 1000 \n",
    "a = 1000 * 1.1 \n",
    "if a > 1200 :\n",
    "    print(':)')\n",
    "\n",
    "elif a>1000:\n",
    "    print('Okay')\n",
    "    \n",
    "else: \n",
    "    print(':(')"
   ]
  },
  {
   "cell_type": "code",
   "execution_count": 40,
   "metadata": {},
   "outputs": [
    {
     "name": "stdout",
     "output_type": "stream",
     "text": [
      "LIQUID\n"
     ]
    }
   ],
   "source": [
    "t = 80 #celcius \n",
    "\n",
    "if t > 100:\n",
    "    print('GAS')\n",
    "    \n",
    "elif t < 0: \n",
    "    print(' ICE')\n",
    "    \n",
    "else:\n",
    "    print('LIQUID')"
   ]
  },
  {
   "cell_type": "code",
   "execution_count": 41,
   "metadata": {},
   "outputs": [
    {
     "name": "stdout",
     "output_type": "stream",
     "text": [
      "god ne vesokosnyi\n"
     ]
    }
   ],
   "source": [
    "year = 1900 \n",
    "\n",
    "if (1900%400 == 0 and 1900%4 == 0 ): \n",
    "    print('god vesokosnyi')\n",
    "    \n",
    "else:\n",
    "    print('god ne vesokosnyi')"
   ]
  },
  {
   "cell_type": "code",
   "execution_count": 58,
   "metadata": {},
   "outputs": [
    {
     "name": "stdout",
     "output_type": "stream",
     "text": [
      "Enter number of age: 20\n",
      "Enter salary: 200000\n",
      "Enter amount of loan: 20000\n",
      "YES\n"
     ]
    }
   ],
   "source": [
    "age = int(input('Enter number of age: '))\n",
    "salary = int(input('Enter salary: '))\n",
    "amount_of_loan = int(input('Enter amount of loan: '))\n",
    "b = amount_of_loan \n",
    "\n",
    "\n",
    "    \n",
    "if (salary > 150000 and b < 10*salary):\n",
    "    if age > 60:\n",
    "        print('Problem of age')\n",
    "        \n",
    "    elif (age < 20 and salary < 500000):\n",
    "        print('Problem of age')\n",
    "    else:\n",
    "        print('YES')\n",
    "        \n",
    "else:\n",
    "    print('Problem of salary')"
   ]
  },
  {
   "cell_type": "code",
   "execution_count": 84,
   "metadata": {},
   "outputs": [
    {
     "name": "stdout",
     "output_type": "stream",
     "text": [
      "2 4 1\n",
      "2 4 2\n",
      "2 4 4\n",
      "2 4 8\n",
      "Answer is: 16\n"
     ]
    }
   ],
   "source": [
    "a=2\n",
    "b=4\n",
    "p=1\n",
    "for i in range (b):\n",
    "    print(a,b,p)\n",
    "    p=p*a\n",
    "print(f'Answer is:', p)"
   ]
  },
  {
   "cell_type": "code",
   "execution_count": 86,
   "metadata": {},
   "outputs": [
    {
     "name": "stdout",
     "output_type": "stream",
     "text": [
      "3\n",
      "5\n",
      "7\n",
      "9\n",
      "11\n",
      "13\n",
      "15\n",
      "17\n",
      "19\n",
      "21\n",
      "23\n",
      "25\n",
      "27\n",
      "29\n",
      "31\n",
      "33\n",
      "35\n",
      "37\n",
      "39\n",
      "41\n",
      "43\n",
      "45\n",
      "47\n",
      "49\n"
     ]
    }
   ],
   "source": [
    "for i in range(3,50,2):\n",
    "    print(i)"
   ]
  },
  {
   "cell_type": "code",
   "execution_count": 87,
   "metadata": {},
   "outputs": [
    {
     "name": "stdout",
     "output_type": "stream",
     "text": [
      "Yes\n"
     ]
    }
   ],
   "source": [
    "a= 3050002\n",
    "b= 4598006\n",
    "d= 23333\n",
    "f= False\n",
    "for i in range(a,b):\n",
    "    if i % d == 0:\n",
    "        f = True\n",
    "        break\n",
    "if f:\n",
    "    print('Yes')\n",
    "else: \n",
    "    print('No')\n",
    "\n"
   ]
  },
  {
   "cell_type": "code",
   "execution_count": 98,
   "metadata": {},
   "outputs": [
    {
     "name": "stdout",
     "output_type": "stream",
     "text": [
      "1 1\n",
      "2 2\n",
      "3 6\n",
      "4 24\n",
      "5 120\n"
     ]
    }
   ],
   "source": [
    "a=5\n",
    "b=1\n",
    "for i in range(1,a+1):\n",
    "    b=b*i\n",
    "    print(i,b)"
   ]
  },
  {
   "cell_type": "code",
   "execution_count": 11,
   "metadata": {},
   "outputs": [
    {
     "ename": "IndentationError",
     "evalue": "unexpected indent (<ipython-input-11-b95850948db4>, line 16)",
     "output_type": "error",
     "traceback": [
      "\u001b[0;36m  File \u001b[0;32m\"<ipython-input-11-b95850948db4>\"\u001b[0;36m, line \u001b[0;32m16\u001b[0m\n\u001b[0;31m    числа фибоначчи\u001b[0m\n\u001b[0m    ^\u001b[0m\n\u001b[0;31mIndentationError\u001b[0m\u001b[0;31m:\u001b[0m unexpected indent\n"
     ]
    }
   ],
   "source": [
    "#предыдущее\n",
    "n0=0\n",
    "#настоящее,которое станет предыщим \n",
    "n1=1\n",
    "#сумма чисел,которая станет станет настоящим числом\n",
    "n=0\n",
    "for i in range(10):\n",
    "    n=n0+n1\n",
    "    n0=n1\n",
    "    n1=n\n",
    "    \n",
    "    print(i,n)\n",
    "    \n",
    "    числа фибоначчи"
   ]
  },
  {
   "cell_type": "code",
   "execution_count": null,
   "metadata": {},
   "outputs": [],
   "source": []
  }
 ],
 "metadata": {
  "kernelspec": {
   "display_name": "Python 3",
   "language": "python",
   "name": "python3"
  },
  "language_info": {
   "codemirror_mode": {
    "name": "ipython",
    "version": 3
   },
   "file_extension": ".py",
   "mimetype": "text/x-python",
   "name": "python",
   "nbconvert_exporter": "python",
   "pygments_lexer": "ipython3",
   "version": "3.7.4"
  }
 },
 "nbformat": 4,
 "nbformat_minor": 2
}
